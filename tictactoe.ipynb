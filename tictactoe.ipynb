{
  "nbformat": 4,
  "nbformat_minor": 0,
  "metadata": {
    "colab": {
      "provenance": [],
      "authorship_tag": "ABX9TyNqv1n4DEzS6KT6K9LL4BZP",
      "include_colab_link": true
    },
    "kernelspec": {
      "name": "python3",
      "display_name": "Python 3"
    },
    "language_info": {
      "name": "python"
    }
  },
  "cells": [
    {
      "cell_type": "markdown",
      "metadata": {
        "id": "view-in-github",
        "colab_type": "text"
      },
      "source": [
        "<a href=\"https://colab.research.google.com/github/emmaenglishwilkins/python-fun/blob/main/tictactoe.ipynb\" target=\"_parent\"><img src=\"https://colab.research.google.com/assets/colab-badge.svg\" alt=\"Open In Colab\"/></a>"
      ]
    },
    {
      "cell_type": "code",
      "execution_count": null,
      "metadata": {
        "id": "ZyAfZ18iOkzw"
      },
      "outputs": [],
      "source": [
        "import random\n",
        "\n",
        "def print_board(board):\n",
        "  for row in board:\n",
        "    print(\" |\".join(row))\n",
        "    print(\"-\" * 8)"
      ]
    },
    {
      "cell_type": "code",
      "source": [
        "board = [\n",
        "    [\"X\",\"X\",\"X\"],\n",
        "    [\"X\",\"X\",\"X\"],\n",
        "    [\"X\",\"X\",\"X\"]\n",
        "]\n",
        "\n",
        "print_board(board)"
      ],
      "metadata": {
        "colab": {
          "base_uri": "https://localhost:8080/"
        },
        "collapsed": true,
        "id": "UoxRadgLRzbi",
        "outputId": "65cab067-62a0-4806-97a1-aec7c4707bf8"
      },
      "execution_count": null,
      "outputs": [
        {
          "output_type": "stream",
          "name": "stdout",
          "text": [
            "X |X |X\n",
            "--------\n",
            "X |X |X\n",
            "--------\n",
            "X |X |X\n",
            "--------\n"
          ]
        }
      ]
    },
    {
      "cell_type": "code",
      "source": [
        "def player_move(board):\n",
        "  valid_move = False\n",
        "  while not valid_move:\n",
        "    move_input = input(\"Player X, enter your move (row col) (1-3): \")\n",
        "    row_input, col_input = move_input.split()\n",
        "    row = int(row_input) - 1\n",
        "    col = int(col_input) - 1\n",
        "\n",
        "    if 0 <= row < 3 and 0 <= col < 3:\n",
        "      if board[row][col] == \" \":\n",
        "        board[row][col] = \"X\"\n",
        "        valid_move = True\n",
        "      else:\n",
        "        print(\"That spot is already taken. Try again.\")\n",
        "        #  player_move()\n",
        "    else:\n",
        "      print(\"Invalid move. Please enter row and column numbers between 1 and 3.\")\n",
        "      # player_move()"
      ],
      "metadata": {
        "id": "jY-4Hr1mTU3h"
      },
      "execution_count": null,
      "outputs": []
    },
    {
      "cell_type": "code",
      "source": [
        "def check_win(board):\n",
        "  # check rows\n",
        "  for row in board:\n",
        "    if row[0] == row[1] == row[2] and row[0] != \" \":\n",
        "      return True\n",
        "  # cols\n",
        "  for col in range(3):\n",
        "    if board[0][col] == board[1][col] == board[2][col] != \" \":\n",
        "      return True\n",
        "  # then diagonals\n",
        "  if board[0][0] == board[1][1] == board[2][2] != \" \":\n",
        "    return True\n",
        "  if board[0][2] == board[1][1] == board[2][0] != \" \":\n",
        "    return True\n",
        "  return False # no one won"
      ],
      "metadata": {
        "id": "vF3g8udRYWRR"
      },
      "execution_count": null,
      "outputs": []
    },
    {
      "cell_type": "code",
      "source": [
        "def board_full(board):\n",
        "  for row in board:\n",
        "    if \" \" in row:\n",
        "      return False\n",
        "  return True"
      ],
      "metadata": {
        "id": "esZcUAKUUK9N"
      },
      "execution_count": null,
      "outputs": []
    },
    {
      "cell_type": "code",
      "source": [
        "'''\n",
        "board is a 2d list\n",
        "depth\n",
        "is_maximizing is a boolean (true if its the computers turn false if it is not)\n",
        "\n",
        "todo: change main loop and computer move function to use minimax()\n",
        "'''\n",
        "def minimax(board, depth, is_maximizing):\n",
        "  if check_win(board):\n",
        "    if is_maximizing: # it is the computers turn and the player won\n",
        "      return -1\n",
        "    else: # it is the players turn and the computer won\n",
        "      return 1\n",
        "  elif board_full(board):\n",
        "    return 0\n",
        "\n",
        "  if is_maximizing:\n",
        "    best = -float('inf')\n",
        "    for row in range(3):\n",
        "      for col in range(3):\n",
        "        if board[row][col] == \" \":\n",
        "          board[row][col] = \"O\"\n",
        "\n",
        "          best = max(best, minimax(board, depth + 1, False))\n",
        "\n",
        "          board[row][col] = \" \"\n",
        "    return best\n",
        "  else: # players turn (minimizing)\n",
        "    best = float('inf')\n",
        "    for row in range(3):\n",
        "      for col in range(3):\n",
        "        if board[row][col] == \" \":\n",
        "          board[row][col] = \"X\"\n",
        "\n",
        "          best = min(best, minimax(board, depth + 1, True))\n",
        "\n",
        "          board[row][col] = \" \"\n",
        "    return best\n"
      ],
      "metadata": {
        "id": "UsNdY6G1WVdb"
      },
      "execution_count": null,
      "outputs": []
    },
    {
      "cell_type": "code",
      "source": [
        "def computer_move(board):\n",
        "  best_val = -float('inf')\n",
        "  best_move = (-1,-1)\n",
        "  for row in range(3):\n",
        "    for col in range(3):\n",
        "      if board[row][col] == \" \":\n",
        "        board[row][col] = \"O\"\n",
        "        move_val = minimax(board, 0, False)\n",
        "        board[row][col] = \" \"\n",
        "        if move_val > best_val:\n",
        "          best_move = (row, col)\n",
        "          best_val = move_val\n",
        "\n",
        "  row, col = best_move\n",
        "  board[row][col] = \"O\""
      ],
      "metadata": {
        "id": "4IPFgvXaVcte"
      },
      "execution_count": null,
      "outputs": []
    },
    {
      "cell_type": "code",
      "source": [
        "# main loop\n",
        "def tictactoe():\n",
        "  board = []\n",
        "  for i in range(3):\n",
        "    board.append([\" \"] * 3)\n",
        "\n",
        "  while True: # game loop\n",
        "    print_board(board)\n",
        "\n",
        "    player_move(board)\n",
        "\n",
        "    if check_win(board):\n",
        "      print_board(board)\n",
        "      print(\"Player X wins!\")\n",
        "      break\n",
        "\n",
        "    if board_full(board):\n",
        "      print_board(board)\n",
        "      print(\"It's a tie!\")\n",
        "      break\n",
        "\n",
        "    print_board(board)\n",
        "    computer_move(board)\n",
        "\n",
        "    if check_win(board):\n",
        "      print_board(board)\n",
        "      print(\"Player O wins!\")\n",
        "      break\n",
        "\n",
        "    if board_full(board):\n",
        "      print_board(board)\n",
        "      print(\"It's a tie!\")\n",
        "      break"
      ],
      "metadata": {
        "id": "Chc2Z9KmSoWo"
      },
      "execution_count": null,
      "outputs": []
    },
    {
      "cell_type": "code",
      "source": [
        "tictactoe()"
      ],
      "metadata": {
        "colab": {
          "base_uri": "https://localhost:8080/"
        },
        "id": "82xcc-irXikW",
        "outputId": "575aad5c-e17a-41e7-85ad-f817741e222e"
      },
      "execution_count": null,
      "outputs": [
        {
          "output_type": "stream",
          "name": "stdout",
          "text": [
            "  |  | \n",
            "--------\n",
            "  |  | \n",
            "--------\n",
            "  |  | \n",
            "--------\n",
            "Player X, enter your move (row col) (1-3): 2 2\n",
            "  |  | \n",
            "--------\n",
            "  |X | \n",
            "--------\n",
            "  |  | \n",
            "--------\n",
            "O |  | \n",
            "--------\n",
            "  |X | \n",
            "--------\n",
            "  |  | \n",
            "--------\n",
            "Player X, enter your move (row col) (1-3): 2 1\n",
            "O |  | \n",
            "--------\n",
            "X |X | \n",
            "--------\n",
            "  |  | \n",
            "--------\n",
            "O |  | \n",
            "--------\n",
            "X |X |O\n",
            "--------\n",
            "  |  | \n",
            "--------\n",
            "Player X, enter your move (row col) (1-3): 1 3\n",
            "O |  |X\n",
            "--------\n",
            "X |X |O\n",
            "--------\n",
            "  |  | \n",
            "--------\n",
            "O |  |X\n",
            "--------\n",
            "X |X |O\n",
            "--------\n",
            "O |  | \n",
            "--------\n",
            "Player X, enter your move (row col) (1-3): 1 2\n",
            "O |X |X\n",
            "--------\n",
            "X |X |O\n",
            "--------\n",
            "O |  | \n",
            "--------\n",
            "O |X |X\n",
            "--------\n",
            "X |X |O\n",
            "--------\n",
            "O |O | \n",
            "--------\n",
            "Player X, enter your move (row col) (1-3): 3 3\n",
            "O |X |X\n",
            "--------\n",
            "X |X |O\n",
            "--------\n",
            "O |O |X\n",
            "--------\n",
            "It's a tie!\n"
          ]
        }
      ]
    }
  ]
}